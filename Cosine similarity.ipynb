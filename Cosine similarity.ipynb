{
 "cells": [
  {
   "cell_type": "markdown",
   "metadata": {},
   "source": [
    "# <span style=\"color:#000033;font-size:25px;text-align: center;\"><center>**Comparing Similarity between three Nat geo articles**</center> </span>"
   ]
  },
  {
   "cell_type": "markdown",
   "metadata": {},
   "source": [
    "### Importing libraries"
   ]
  },
  {
   "cell_type": "code",
   "execution_count": 9,
   "metadata": {},
   "outputs": [],
   "source": [
    "import pandas as pd\n",
    "from sklearn.feature_extraction.text import CountVectorizer"
   ]
  },
  {
   "cell_type": "markdown",
   "metadata": {},
   "source": [
    "<span style=\"font-size:17px;\"><b>Source:</b></span> <br>\n",
    "<span style=\"font-size:14px;\">\"<u>Latest in Travel: Flights from Pune to Singapore, Quarantine-Free Travel to Taiwan and More</u>\"<br>\n",
    "BY Lakshmi Sankaran<br>\n",
    "Posted On October 18, 2022</span>"
   ]
  },
  {
   "cell_type": "code",
   "execution_count": 10,
   "metadata": {},
   "outputs": [],
   "source": [
    "document1=\"\"\"Direct flights from Pune to Singapore\n",
    "Travellers can now fly directly between Pune and Singapore starting December 2, courtesy Vistara which will kick off three to \n",
    "four flights every week. International connections from Pune are rare (right now, Dubai is the sole one); visitors normally rely\n",
    "on Mumbai airport for the same. However, authorities are now planning to connect the city to two more Southeast Asian countries \n",
    "once the Singapore route is up and running.\"\"\""
   ]
  },
  {
   "cell_type": "markdown",
   "metadata": {},
   "source": [
    "<span style=\"font-size:17px;\"><b>Source:</b></span> <br>\n",
    "<span style=\"font-size:14px;\">\"<u>Latest in Travel: Goa’s New International Airport, Bali 5-Year Remote Work Visa and Oslo’s Dramatic National Museum</u>\"<br>\n",
    "BY Lakshmi Sankaran<br>\n",
    "Posted On June 11, 2022</span>"
   ]
  },
  {
   "cell_type": "code",
   "execution_count": 11,
   "metadata": {},
   "outputs": [],
   "source": [
    "document2=\"\"\"Direct flights between Mumbai and Ho Chi Minh City and Hanoi\n",
    "After connecting Delhi with direct flights to Vietnam’s two major cities, VietJet has now officially announced the same from \n",
    "Mumbai. Flights between Mumbai and Ho Chi Minh City and Hanoi will run three-four times a week. An additional flight connecting\n",
    "Mumbai to Phu Quoc is also in the offing.\n",
    " \"\"\""
   ]
  },
  {
   "cell_type": "markdown",
   "metadata": {},
   "source": [
    "<span style=\"font-size:17px;\"><b>Source:</b></span> <br>\n",
    "<span style=\"font-size:14px;\">\"<u>Latest in Travel: Latest in Travel: Schengen Digital Visa for Smoother EU Trips</u>\"<br>\n",
    "BY Lakshmi Sankaran<br>\n",
    "Posted On May 21, 2022</span>"
   ]
  },
  {
   "cell_type": "code",
   "execution_count": 12,
   "metadata": {},
   "outputs": [],
   "source": [
    "document3=\"\"\"Schengen visa process to go digital\n",
    "In a bid to ease paperwork for millions of tourists, the EU has proposed to make the Schengen visa process an online application\n",
    "system in the next few years. The Schengen visa allows travellers to visit and travel across 26 EU member nations for up to 90 \n",
    "days. Right now, tourists submit their visa application to a country’s local consulate and collect their passports in person \n",
    "once the visa is issued—a time-consuming process which became complicated during the last two years of the pandemic. The new \n",
    "proposal envisions a single digital visa application platform for all EU countries. Instead of a physical sticker, the visa is \n",
    "expected to be a cryptographically signed 2D bar co\"\"\""
   ]
  },
  {
   "cell_type": "markdown",
   "metadata": {},
   "source": [
    "### Vectorizing the documents"
   ]
  },
  {
   "cell_type": "code",
   "execution_count": 13,
   "metadata": {},
   "outputs": [],
   "source": [
    "documents=[document1,document2,document3]"
   ]
  },
  {
   "cell_type": "code",
   "execution_count": 14,
   "metadata": {},
   "outputs": [],
   "source": [
    "vectorize=CountVectorizer(stop_words=\"english\",)\n",
    "corpus=vectorize.fit(documents)"
   ]
  },
  {
   "cell_type": "code",
   "execution_count": 15,
   "metadata": {},
   "outputs": [
    {
     "data": {
      "text/plain": [
       "26             0\n",
       "2d             1\n",
       "90             2\n",
       "additional     3\n",
       "airport        4\n",
       "              ..\n",
       "visit         95\n",
       "visitors      96\n",
       "vistara       97\n",
       "week          98\n",
       "years         99\n",
       "Length: 100, dtype: int64"
      ]
     },
     "execution_count": 15,
     "metadata": {},
     "output_type": "execute_result"
    }
   ],
   "source": [
    "pd.Series(corpus.vocabulary_).sort_values()"
   ]
  },
  {
   "cell_type": "code",
   "execution_count": 16,
   "metadata": {},
   "outputs": [],
   "source": [
    "sparse_matrix=corpus.transform(documents)"
   ]
  },
  {
   "cell_type": "code",
   "execution_count": 25,
   "metadata": {},
   "outputs": [],
   "source": [
    "doc_matrix=sparse_matrix.todense()\n",
    "df=pd.DataFrame(doc_matrix,columns=vectorize.get_feature_names_out(),index=[\"document1\",\"document2\",\"document3\"])"
   ]
  },
  {
   "cell_type": "code",
   "execution_count": 26,
   "metadata": {},
   "outputs": [
    {
     "data": {
      "text/html": [
       "<div>\n",
       "<style scoped>\n",
       "    .dataframe tbody tr th:only-of-type {\n",
       "        vertical-align: middle;\n",
       "    }\n",
       "\n",
       "    .dataframe tbody tr th {\n",
       "        vertical-align: top;\n",
       "    }\n",
       "\n",
       "    .dataframe thead th {\n",
       "        text-align: right;\n",
       "    }\n",
       "</style>\n",
       "<table border=\"1\" class=\"dataframe\">\n",
       "  <thead>\n",
       "    <tr style=\"text-align: right;\">\n",
       "      <th></th>\n",
       "      <th>26</th>\n",
       "      <th>2d</th>\n",
       "      <th>90</th>\n",
       "      <th>additional</th>\n",
       "      <th>airport</th>\n",
       "      <th>allows</th>\n",
       "      <th>announced</th>\n",
       "      <th>application</th>\n",
       "      <th>asian</th>\n",
       "      <th>authorities</th>\n",
       "      <th>...</th>\n",
       "      <th>travel</th>\n",
       "      <th>travellers</th>\n",
       "      <th>vietjet</th>\n",
       "      <th>vietnam</th>\n",
       "      <th>visa</th>\n",
       "      <th>visit</th>\n",
       "      <th>visitors</th>\n",
       "      <th>vistara</th>\n",
       "      <th>week</th>\n",
       "      <th>years</th>\n",
       "    </tr>\n",
       "  </thead>\n",
       "  <tbody>\n",
       "    <tr>\n",
       "      <th>document1</th>\n",
       "      <td>0</td>\n",
       "      <td>0</td>\n",
       "      <td>0</td>\n",
       "      <td>0</td>\n",
       "      <td>1</td>\n",
       "      <td>0</td>\n",
       "      <td>0</td>\n",
       "      <td>0</td>\n",
       "      <td>1</td>\n",
       "      <td>1</td>\n",
       "      <td>...</td>\n",
       "      <td>0</td>\n",
       "      <td>1</td>\n",
       "      <td>0</td>\n",
       "      <td>0</td>\n",
       "      <td>0</td>\n",
       "      <td>0</td>\n",
       "      <td>1</td>\n",
       "      <td>1</td>\n",
       "      <td>1</td>\n",
       "      <td>0</td>\n",
       "    </tr>\n",
       "    <tr>\n",
       "      <th>document2</th>\n",
       "      <td>0</td>\n",
       "      <td>0</td>\n",
       "      <td>0</td>\n",
       "      <td>1</td>\n",
       "      <td>0</td>\n",
       "      <td>0</td>\n",
       "      <td>1</td>\n",
       "      <td>0</td>\n",
       "      <td>0</td>\n",
       "      <td>0</td>\n",
       "      <td>...</td>\n",
       "      <td>0</td>\n",
       "      <td>0</td>\n",
       "      <td>1</td>\n",
       "      <td>1</td>\n",
       "      <td>0</td>\n",
       "      <td>0</td>\n",
       "      <td>0</td>\n",
       "      <td>0</td>\n",
       "      <td>1</td>\n",
       "      <td>0</td>\n",
       "    </tr>\n",
       "    <tr>\n",
       "      <th>document3</th>\n",
       "      <td>1</td>\n",
       "      <td>1</td>\n",
       "      <td>1</td>\n",
       "      <td>0</td>\n",
       "      <td>0</td>\n",
       "      <td>1</td>\n",
       "      <td>0</td>\n",
       "      <td>3</td>\n",
       "      <td>0</td>\n",
       "      <td>0</td>\n",
       "      <td>...</td>\n",
       "      <td>1</td>\n",
       "      <td>1</td>\n",
       "      <td>0</td>\n",
       "      <td>0</td>\n",
       "      <td>7</td>\n",
       "      <td>1</td>\n",
       "      <td>0</td>\n",
       "      <td>0</td>\n",
       "      <td>0</td>\n",
       "      <td>2</td>\n",
       "    </tr>\n",
       "  </tbody>\n",
       "</table>\n",
       "<p>3 rows × 100 columns</p>\n",
       "</div>"
      ],
      "text/plain": [
       "           26  2d  90  additional  airport  allows  announced  application  \\\n",
       "document1   0   0   0           0        1       0          0            0   \n",
       "document2   0   0   0           1        0       0          1            0   \n",
       "document3   1   1   1           0        0       1          0            3   \n",
       "\n",
       "           asian  authorities  ...  travel  travellers  vietjet  vietnam  \\\n",
       "document1      1            1  ...       0           1        0        0   \n",
       "document2      0            0  ...       0           0        1        1   \n",
       "document3      0            0  ...       1           1        0        0   \n",
       "\n",
       "           visa  visit  visitors  vistara  week  years  \n",
       "document1     0      0         1        1     1      0  \n",
       "document2     0      0         0        0     1      0  \n",
       "document3     7      1         0        0     0      2  \n",
       "\n",
       "[3 rows x 100 columns]"
      ]
     },
     "execution_count": 26,
     "metadata": {},
     "output_type": "execute_result"
    }
   ],
   "source": [
    "df"
   ]
  },
  {
   "cell_type": "markdown",
   "metadata": {},
   "source": [
    "### Checking for similarity between the three articles using cosine_similarity"
   ]
  },
  {
   "cell_type": "code",
   "execution_count": 27,
   "metadata": {},
   "outputs": [],
   "source": [
    "from sklearn.metrics .pairwise import cosine_similarity\n",
    "similarity=cosine_similarity(df,df)"
   ]
  },
  {
   "cell_type": "code",
   "execution_count": 28,
   "metadata": {},
   "outputs": [
    {
     "name": "stdout",
     "output_type": "stream",
     "text": [
      "[[1.         0.2522523  0.03516054]\n",
      " [0.2522523  1.         0.        ]\n",
      " [0.03516054 0.         1.        ]]\n"
     ]
    }
   ],
   "source": [
    "print(similarity)"
   ]
  },
  {
   "cell_type": "markdown",
   "metadata": {},
   "source": [
    "#### From the similarity matrix we can infer that the cosine angle between document1 and document2 are more, hence document1 and document2 are more similar among the three documents\n"
   ]
  },
  {
   "cell_type": "code",
   "execution_count": 129,
   "metadata": {},
   "outputs": [],
   "source": [
    "d1=df.loc[\"document1\"].to_dict()\n",
    "doc1_words=[i for i in d1 if d1[i]!=0]"
   ]
  },
  {
   "cell_type": "code",
   "execution_count": 130,
   "metadata": {},
   "outputs": [],
   "source": [
    "d2=df.loc[\"document2\"].to_dict()\n",
    "doc2_words=[i for i in d2 if d2[i]!=0]"
   ]
  },
  {
   "cell_type": "code",
   "execution_count": 131,
   "metadata": {},
   "outputs": [],
   "source": [
    "d3=df.loc[\"document3\"].to_dict()\n",
    "doc3_words=[i for i in d3 if d3[i]!=0]"
   ]
  },
  {
   "cell_type": "code",
   "execution_count": 132,
   "metadata": {},
   "outputs": [
    {
     "data": {
      "text/plain": [
       "['city', 'direct', 'flights', 'mumbai', 'week']"
      ]
     },
     "execution_count": 132,
     "metadata": {},
     "output_type": "execute_result"
    }
   ],
   "source": [
    "doc1_2=[x for x in doc1_words if x in doc2_words]\n",
    "doc1_2"
   ]
  },
  {
   "cell_type": "code",
   "execution_count": 134,
   "metadata": {},
   "outputs": [
    {
     "data": {
      "text/plain": [
       "['countries', 'right', 'travellers']"
      ]
     },
     "execution_count": 134,
     "metadata": {},
     "output_type": "execute_result"
    }
   ],
   "source": [
    "doc1_3=[x for x in doc1_words if x in doc3_words]\n",
    "doc1_3"
   ]
  },
  {
   "cell_type": "code",
   "execution_count": 135,
   "metadata": {},
   "outputs": [
    {
     "data": {
      "text/plain": [
       "[]"
      ]
     },
     "execution_count": 135,
     "metadata": {},
     "output_type": "execute_result"
    }
   ],
   "source": [
    "doc2_3=[x for x in doc2_words if x in doc3_words]\n",
    "doc2_3"
   ]
  },
  {
   "cell_type": "markdown",
   "metadata": {},
   "source": [
    "One can see that document 1 and 2 share more common words compared to documents 1 and 3, and 2 and 3. This is obvious as documents 1 and 2 talk about <b>Direct flights</b> where as document 3 talk about <b>Visa Process</b>. Hence we have verified manually also that documents 1 and 2 are more similar"
   ]
  }
 ],
 "metadata": {
  "kernelspec": {
   "display_name": "Python 3",
   "language": "python",
   "name": "python3"
  },
  "language_info": {
   "codemirror_mode": {
    "name": "ipython",
    "version": 3
   },
   "file_extension": ".py",
   "mimetype": "text/x-python",
   "name": "python",
   "nbconvert_exporter": "python",
   "pygments_lexer": "ipython3",
   "version": "3.8.5"
  }
 },
 "nbformat": 4,
 "nbformat_minor": 4
}
