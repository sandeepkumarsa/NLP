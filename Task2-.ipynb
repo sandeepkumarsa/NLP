{
 "cells": [
  {
   "cell_type": "markdown",
   "id": "e6a03a8c",
   "metadata": {},
   "source": [
    "# Frequncy distribution"
   ]
  },
  {
   "cell_type": "code",
   "execution_count": 2,
   "id": "a5739050",
   "metadata": {},
   "outputs": [],
   "source": [
    "import nltk\n",
    "import pandas as pd\n",
    "import seaborn as sns\n",
    "import matplotlib.pyplot as plt"
   ]
  },
  {
   "cell_type": "code",
   "execution_count": 3,
   "id": "37afdc1e",
   "metadata": {},
   "outputs": [
    {
     "data": {
      "text/plain": [
       "FreqDist({'to': 4, 'the': 4, 'of': 3, 'Native': 2, 'a': 2, 'contributing': 2, 'speakers': 1, 'American': 1, 'English': 1, '(Am': 1, ...})"
      ]
     },
     "execution_count": 3,
     "metadata": {},
     "output_type": "execute_result"
    }
   ],
   "source": [
    "text1 =\"Native speakers of American English (Am I a Native Speaker?) who have produced documents of any kind (including college student essays, blogs, poetry, fiction, email, etc.) are invited to become a part of linguistic history by contributing these materials to the OANC/MASC. Authors can consult the frequently asked questions page to learn more about how the data will be used, and why you should consider contributing your work to the OANC.\"\n",
    "fd = nltk.FreqDist(text1.split())\n",
    "fd"
   ]
  },
  {
   "cell_type": "markdown",
   "id": "1d87defa",
   "metadata": {},
   "source": [
    "## Conditional Frequency"
   ]
  },
  {
   "cell_type": "code",
   "execution_count": 4,
   "id": "e885dde7",
   "metadata": {},
   "outputs": [],
   "source": [
    "from nltk.probability import ConditionalFreqDist"
   ]
  },
  {
   "cell_type": "code",
   "execution_count": 5,
   "id": "1c53822d",
   "metadata": {},
   "outputs": [
    {
     "data": {
      "text/plain": [
       "FreqDist({'have': 1, 'kind': 1, 'part': 1, 'page': 1, 'more': 1, 'data': 1, 'will': 1, 'your': 1, 'work': 1})"
      ]
     },
     "execution_count": 5,
     "metadata": {},
     "output_type": "execute_result"
    }
   ],
   "source": [
    "cfd = ConditionalFreqDist((len(word), word) for word in text1.split())\n",
    "cfd[4]"
   ]
  },
  {
   "cell_type": "markdown",
   "id": "9fc5bf27",
   "metadata": {},
   "source": [
    "## Highest repeated words in presidential address"
   ]
  },
  {
   "cell_type": "code",
   "execution_count": 7,
   "id": "2c80cb59",
   "metadata": {},
   "outputs": [],
   "source": [
    "from nltk.corpus import inaugural"
   ]
  },
  {
   "cell_type": "code",
   "execution_count": 8,
   "id": "bd91f1e5",
   "metadata": {},
   "outputs": [
    {
     "data": {
      "text/plain": [
       "['My', 'fellow', 'citizens', ':', 'I', 'stand', 'here', ...]"
      ]
     },
     "execution_count": 8,
     "metadata": {},
     "output_type": "execute_result"
    }
   ],
   "source": [
    "text = inaugural.words(fileids='2009-Obama.txt')\n",
    "text"
   ]
  },
  {
   "cell_type": "code",
   "execution_count": 10,
   "id": "21902285",
   "metadata": {},
   "outputs": [
    {
     "data": {
      "text/plain": [
       "FreqDist({',': 130, 'the': 126, '.': 108, 'and': 105, 'of': 82, 'to': 66, 'our': 58, 'we': 50, 'that': 48, 'a': 47, ...})"
      ]
     },
     "execution_count": 10,
     "metadata": {},
     "output_type": "execute_result"
    }
   ],
   "source": [
    "fd_words = nltk.FreqDist(text)\n",
    "fd_words"
   ]
  },
  {
   "cell_type": "markdown",
   "id": "1a01dbb3",
   "metadata": {},
   "source": [
    "## Most repeated nouns in inaugural speech"
   ]
  },
  {
   "cell_type": "code",
   "execution_count": 17,
   "id": "0a36cf69",
   "metadata": {},
   "outputs": [
    {
     "name": "stdout",
     "output_type": "stream",
     "text": [
      "('nation', 'NN') 12\n",
      "('America', 'NNP') 10\n",
      "('world', 'NN') 7\n",
      "('people', 'NNS') 6\n",
      "('today', 'NN') 5\n",
      "('generation', 'NN') 5\n",
      "('day', 'NN') 5\n",
      "('time', 'NN') 5\n",
      "('spirit', 'NN') 5\n",
      "('God', 'NNP') 5\n",
      "('words', 'NNS') 4\n",
      "('peace', 'NN') 4\n",
      "('crisis', 'NN') 4\n",
      "('things', 'NNS') 4\n",
      "('work', 'NN') 4\n",
      "('men', 'NNS') 4\n",
      "('women', 'NNS') 4\n",
      "('s', 'NN') 4\n",
      "('power', 'NN') 4\n",
      "('Americans', 'NNPS') 3\n",
      "('oath', 'NN') 3\n",
      "('prosperity', 'NN') 3\n",
      "('ideals', 'NNS') 3\n",
      "('economy', 'NN') 3\n",
      "('jobs', 'NNS') 3\n",
      "('care', 'NN') 3\n",
      "('hope', 'NN') 3\n",
      "('end', 'NN') 3\n",
      "('history', 'NN') 3\n",
      "('freedom', 'NN') 3\n",
      "('life', 'NN') 3\n",
      "('government', 'NN') 3\n",
      "('force', 'NN') 3\n",
      "('cannot', 'NN') 3\n",
      "('man', 'NN') 3\n",
      "('generations', 'NNS') 3\n",
      "('father', 'NN') 3\n",
      "('nations', 'NNS') 3\n",
      "('moment', 'NN') 3\n",
      "('children', 'NNS') 3\n",
      "('task', 'NN') 2\n",
      "('trust', 'NN') 2\n",
      "('service', 'NN') 2\n",
      "('cooperation', 'NN') 2\n",
      "('waters', 'NNS') 2\n",
      "('storms', 'NNS') 2\n",
      "('war', 'NN') 2\n",
      "('part', 'NN') 2\n",
      "('age', 'NN') 2\n",
      "('health', 'NN') 2\n",
      "('schools', 'NNS') 2\n",
      "('planet', 'NN') 2\n",
      "('confidence', 'NN') 2\n",
      "('fear', 'NN') 2\n",
      "('challenges', 'NNS') 2\n",
      "('purpose', 'NN') 2\n",
      "('conflict', 'NN') 2\n",
      "('gift', 'NN') 2\n",
      "('promise', 'NN') 2\n",
      "('greatness', 'NN') 2\n",
      "('journey', 'NN') 2\n",
      "('path', 'NN') 2\n",
      "('West', 'NNP') 2\n",
      "('ambitions', 'NNS') 2\n",
      "('birth', 'NN') 2\n",
      "('wealth', 'NN') 2\n",
      "('workers', 'NNS') 2\n",
      "('minds', 'NNS') 2\n",
      "('year', 'NN') 2\n",
      "('lines', 'NNS') 2\n",
      "('country', 'NN') 2\n",
      "('question', 'NN') 2\n",
      "('answer', 'NN') 2\n",
      "('market', 'NN') 2\n",
      "('success', 'NN') 2\n",
      "('defense', 'NN') 2\n",
      "('charter', 'NN') 2\n",
      "('blood', 'NN') 2\n",
      "('friend', 'NN') 2\n",
      "('child', 'NN') 2\n",
      "('way', 'NN') 2\n",
      "('era', 'NN') 2\n",
      "('something', 'NN') 2\n",
      "('liberty', 'NN') 2\n",
      "('willingness', 'NN') 2\n",
      "('meaning', 'NN') 2\n",
      "('faith', 'NN') 2\n",
      "('hours', 'NNS') 2\n",
      "('courage', 'NN') 2\n",
      "('duties', 'NNS') 2\n",
      "('knowledge', 'NN') 2\n",
      "('nothing', 'NN') 2\n",
      "('icy', 'NN') 2\n",
      "('winter', 'NN') 2\n",
      "('virtue', 'NN') 2\n",
      "('citizens', 'NNS') 1\n",
      "('grateful', 'NN') 1\n",
      "('mindful', 'NN') 1\n",
      "('sacrifices', 'NNS') 1\n",
      "('ancestors', 'NNS') 1\n",
      "('President', 'NNP') 1\n",
      "('Bush', 'NNP') 1\n",
      "('generosity', 'NN') 1\n",
      "('transition', 'NN') 1\n",
      "('Forty', 'NNP') 1\n",
      "('tides', 'NNS') 1\n",
      "('clouds', 'NNS') 1\n",
      "('moments', 'NNS') 1\n",
      "('skill', 'NN') 1\n",
      "('vision', 'NN') 1\n",
      "('office', 'NN') 1\n",
      "('People', 'NNS') 1\n",
      "('forbearers', 'NNS') 1\n",
      "('founding', 'NN') 1\n",
      "('documents', 'NNS') 1\n",
      "('midst', 'NN') 1\n",
      "('network', 'NN') 1\n",
      "('violence', 'NN') 1\n",
      "('consequence', 'NN') 1\n",
      "('greed', 'NN') 1\n",
      "('irresponsibility', 'NN') 1\n",
      "('failure', 'NN') 1\n",
      "('choices', 'NNS') 1\n",
      "('Homes', 'NNS') 1\n",
      "('businesses', 'NNS') 1\n",
      "('evidence', 'NN') 1\n",
      "('ways', 'NNS') 1\n",
      "('energy', 'NN') 1\n",
      "('adversaries', 'NNS') 1\n",
      "('indicators', 'NNS') 1\n",
      "('data', 'NNS') 1\n",
      "('statistics', 'NNS') 1\n",
      "('profound', 'NN') 1\n",
      "('sapping', 'NN') 1\n",
      "('land', 'NN') 1\n",
      "('decline', 'NN') 1\n",
      "('sights', 'NNS') 1\n",
      "('Today', 'NN') 1\n",
      "('span', 'NN') 1\n",
      "('unity', 'NN') 1\n",
      "('discord', 'NN') 1\n",
      "('grievances', 'NNS') 1\n",
      "('promises', 'NNS') 1\n",
      "('recriminations', 'NNS') 1\n",
      "('dogmas', 'NN') 1\n",
      "('politics', 'NNS') 1\n",
      "('Scripture', 'NNP') 1\n",
      "('idea', 'NN') 1\n",
      "('chance', 'NN') 1\n",
      "('measure', 'NN') 1\n",
      "('happiness', 'NN') 1\n",
      "('shortcuts', 'NNS') 1\n",
      "('faint', 'NN') 1\n",
      "('leisure', 'NN') 1\n",
      "('pleasures', 'NNS') 1\n",
      "('riches', 'NNS') 1\n",
      "('fame', 'NN') 1\n",
      "('risk', 'NN') 1\n",
      "('takers', 'NNS') 1\n",
      "('doers', 'NNS') 1\n",
      "('makers', 'NNS') 1\n",
      "('labor', 'NN') 1\n",
      "('towards', 'NNS') 1\n",
      "('possessions', 'NNS') 1\n",
      "('oceans', 'NNS') 1\n",
      "('search', 'NN') 1\n",
      "('sweatshops', 'NNS') 1\n",
      "('lash', 'NN') 1\n",
      "('whip', 'NN') 1\n",
      "('earth', 'NN') 1\n",
      "('places', 'NNS') 1\n",
      "('Concord', 'NNP') 1\n",
      "('Gettysburg', 'NNP') 1\n",
      "('Normandy', 'NNP') 1\n",
      "('Khe', 'NNP') 1\n",
      "('Sahn', 'NNP') 1\n",
      "('Time', 'NNP') 1\n",
      "('hands', 'NNS') 1\n",
      "('sum', 'NN') 1\n",
      "('differences', 'NNS') 1\n",
      "('faction', 'NN') 1\n",
      "('Earth', 'NN') 1\n",
      "('goods', 'NNS') 1\n",
      "('services', 'NNS') 1\n",
      "('week', 'NN') 1\n",
      "('month', 'NN') 1\n",
      "('capacity', 'NN') 1\n",
      "('pat', 'NN') 1\n",
      "('interests', 'NNS') 1\n",
      "('decisions', 'NNS') 1\n",
      "('state', 'NN') 1\n",
      "('action', 'NN') 1\n",
      "('foundation', 'NN') 1\n",
      "('growth', 'NN') 1\n",
      "('roads', 'NNS') 1\n",
      "('bridges', 'NNS') 1\n",
      "('grids', 'NNS') 1\n",
      "('commerce', 'NN') 1\n",
      "('science', 'NN') 1\n",
      "('place', 'NN') 1\n",
      "('technology', 'NN') 1\n",
      "('wonders', 'NNS') 1\n",
      "('quality', 'NN') 1\n",
      "('cost', 'NN') 1\n",
      "('sun', 'NN') 1\n",
      "('winds', 'NNS') 1\n",
      "('soil', 'NN') 1\n",
      "('cars', 'NNS') 1\n",
      "('factories', 'NNS') 1\n",
      "('colleges', 'NNS') 1\n",
      "('universities', 'NNS') 1\n",
      "('demands', 'NNS') 1\n",
      "('scale', 'NN') 1\n",
      "('system', 'NN') 1\n",
      "('plans', 'NNS') 1\n",
      "('memories', 'NNS') 1\n",
      "('imagination', 'NN') 1\n",
      "('necessity', 'NN') 1\n",
      "('cynics', 'NNS') 1\n",
      "('ground', 'NN') 1\n",
      "('arguments', 'NNS') 1\n",
      "('families', 'NNS') 1\n",
      "('wage', 'NN') 1\n",
      "('retirement', 'NN') 1\n",
      "('programs', 'NNS') 1\n",
      "('public', 'NN') 1\n",
      "('dollars', 'NNS') 1\n",
      "('reform', 'NN') 1\n",
      "('habits', 'NNS') 1\n",
      "('business', 'NN') 1\n",
      "('light', 'NN') 1\n",
      "('expand', 'NN') 1\n",
      "('eye', 'NN') 1\n",
      "('control', 'NN') 1\n",
      "('size', 'NN') 1\n",
      "('Gross', 'NNP') 1\n",
      "('Domestic', 'NNP') 1\n",
      "('Product', 'NNP') 1\n",
      "('reach', 'NN') 1\n",
      "('ability', 'NN') 1\n",
      "('opportunity', 'NN') 1\n",
      "('heart', 'NN') 1\n",
      "('charity', 'NN') 1\n",
      "('route', 'NN') 1\n",
      "('choice', 'NN') 1\n",
      "('safety', 'NN') 1\n",
      "('Fathers', 'NNS') 1\n",
      "('perils', 'NNS') 1\n",
      "('rule', 'NN') 1\n",
      "('law', 'NN') 1\n",
      "('rights', 'NNS') 1\n",
      "('expedience', 'NN') 1\n",
      "('sake', 'NN') 1\n",
      "('peoples', 'NNS') 1\n",
      "('governments', 'NNS') 1\n",
      "('grandest', 'NN') 1\n",
      "('capitals', 'NNS') 1\n",
      "('village', 'NN') 1\n",
      "('woman', 'NN') 1\n",
      "('future', 'NN') 1\n",
      "('dignity', 'NN') 1\n",
      "('fascism', 'NN') 1\n",
      "('communism', 'NN') 1\n",
      "('missiles', 'NNS') 1\n",
      "('tanks', 'NNS') 1\n",
      "('alliances', 'NNS') 1\n",
      "('convictions', 'NNS') 1\n",
      "('prudent', 'NN') 1\n",
      "('use', 'NN') 1\n",
      "('security', 'NN') 1\n",
      "('justness', 'NN') 1\n",
      "('cause', 'NN') 1\n",
      "('example', 'NN') 1\n",
      "('qualities', 'NNS') 1\n",
      "('humility', 'NN') 1\n",
      "('restraint', 'NN') 1\n",
      "('keepers', 'NNS') 1\n",
      "('legacy', 'NN') 1\n",
      "('principles', 'NNS') 1\n",
      "('threats', 'NNS') 1\n",
      "('demand', 'NN') 1\n",
      "('effort', 'NN') 1\n",
      "('understanding', 'NN') 1\n",
      "('Iraq', 'NNP') 1\n",
      "('Afghanistan', 'NNP') 1\n",
      "('friends', 'NNS') 1\n",
      "('foes', 'NNS') 1\n",
      "('threat', 'NN') 1\n",
      "('specter', 'NN') 1\n",
      "('aims', 'NNS') 1\n",
      "('terror', 'NN') 1\n",
      "('innocents', 'NNS') 1\n",
      "('patchwork', 'NN') 1\n",
      "('heritage', 'NN') 1\n",
      "('strength', 'NN') 1\n",
      "('weakness', 'NN') 1\n",
      "('Christians', 'NNPS') 1\n",
      "('Muslims', 'NNP') 1\n",
      "('Jews', 'NNP') 1\n",
      "('Hindus', 'NNP') 1\n",
      "('believers', 'NNS') 1\n",
      "('language', 'NN') 1\n",
      "('culture', 'NN') 1\n",
      "('drawn', 'NN') 1\n",
      "('Earth', 'NNP') 1\n",
      "('swill', 'NN') 1\n",
      "('segregation', 'NN') 1\n",
      "('chapter', 'NN') 1\n",
      "('hatreds', 'NNS') 1\n",
      "('tribe', 'NN') 1\n",
      "('humanity', 'NN') 1\n",
      "('role', 'NN') 1\n",
      "('Muslim', 'NNP') 1\n",
      "('interest', 'NN') 1\n",
      "('respect', 'NN') 1\n",
      "('leaders', 'NNS') 1\n",
      "('globe', 'NN') 1\n",
      "('society', 'NN') 1\n",
      "('ills', 'NNS') 1\n",
      "('corruption', 'NN') 1\n",
      "('deceit', 'NN') 1\n",
      "('silencing', 'NN') 1\n",
      "('dissent', 'NN') 1\n",
      "('side', 'NN') 1\n",
      "('hand', 'NN') 1\n",
      "('fist', 'NN') 1\n",
      "('farms', 'NNS') 1\n",
      "('bodies', 'NNS') 1\n",
      "('ours', 'NNS') 1\n",
      "('plenty', 'NN') 1\n",
      "('indifference', 'NN') 1\n",
      "('suffering', 'NN') 1\n",
      "('borders', 'NNS') 1\n",
      "('resources', 'NNS') 1\n",
      "('regard', 'NN') 1\n",
      "('effect', 'NN') 1\n",
      "('road', 'NN') 1\n",
      "('hour', 'NN') 1\n",
      "('patrol', 'NN') 1\n",
      "('deserts', 'NNS') 1\n",
      "('mountains', 'NNS') 1\n",
      "('fallen', 'NN') 1\n",
      "('heroes', 'NNS') 1\n",
      "('Arlington', 'NNP') 1\n",
      "('ages', 'NNS') 1\n",
      "('guardians', 'NNS') 1\n",
      "('determination', 'NN') 1\n",
      "('kindness', 'NN') 1\n",
      "('stranger', 'NN') 1\n",
      "('levees', 'NNS') 1\n",
      "('selflessness', 'NN') 1\n",
      "('job', 'NN') 1\n",
      "('darkest', 'NN') 1\n",
      "('firefighter', 'NN') 1\n",
      "('stairway', 'NN') 1\n",
      "('smoke', 'NN') 1\n",
      "('parent', 'NN') 1\n",
      "('fate', 'NN') 1\n",
      "('instruments', 'NNS') 1\n",
      "('values', 'NNS') 1\n",
      "('play', 'NN') 1\n",
      "('tolerance', 'NN') 1\n",
      "('curiosity', 'NN') 1\n",
      "('loyalty', 'NN') 1\n",
      "('patriotism', 'NN') 1\n",
      "('progress', 'NN') 1\n",
      "('return', 'NN') 1\n",
      "('truths', 'NNS') 1\n",
      "('responsibility', 'NN') 1\n",
      "('recognition', 'NN') 1\n",
      "('American', 'NNP') 1\n",
      "('ourselves', 'NNS') 1\n",
      "('firm', 'NN') 1\n",
      "('character', 'NN') 1\n",
      "('price', 'NN') 1\n",
      "('citizenship', 'NN') 1\n",
      "('source', 'NN') 1\n",
      "('destiny', 'NN') 1\n",
      "('creed', 'NN') 1\n",
      "('race', 'NN') 1\n",
      "('celebration', 'NN') 1\n",
      "('magnificent', 'NN') 1\n",
      "('mall', 'NN') 1\n",
      "('years', 'NNS') 1\n",
      "('restaurant', 'NN') 1\n",
      "('remembrance', 'NN') 1\n",
      "('coldest', 'NN') 1\n",
      "('months', 'NNS') 1\n",
      "('band', 'NN') 1\n",
      "('patriots', 'NNS') 1\n",
      "('campfires', 'NNS') 1\n",
      "('shores', 'NNS') 1\n",
      "('river', 'NN') 1\n",
      "('capital', 'NN') 1\n",
      "('enemy', 'NN') 1\n",
      "('snow', 'NN') 1\n",
      "('outcome', 'NN') 1\n",
      "('revolution', 'NN') 1\n",
      "('doubt', 'NN') 1\n",
      "('depth', 'NN') 1\n",
      "('city', 'NN') 1\n",
      "('danger', 'NN') 1\n",
      "('face', 'NN') 1\n",
      "('dangers', 'NNS') 1\n",
      "('hardship', 'NN') 1\n",
      "('currents', 'NNS') 1\n",
      "('eyes', 'NNS') 1\n",
      "('horizon', 'NN') 1\n",
      "('grace', 'NN') 1\n",
      "('forth', 'NN') 1\n",
      "('Thank', 'NNP') 1\n",
      "('bless', 'NN') 1\n",
      "('United', 'NNP') 1\n",
      "('States', 'NNPS') 1\n"
     ]
    }
   ],
   "source": [
    "tagged = nltk.pos_tag(text)\n",
    "fdd = nltk.FreqDist(tagged)\n",
    "word = []\n",
    "con = []\n",
    "for val in fdd:\n",
    "    if(val[1][:2] == \"NN\"):\n",
    "        word.append(val[0])\n",
    "        con.append(fdd[val])\n",
    "        print(val, fdd[val])"
   ]
  },
  {
   "cell_type": "code",
   "execution_count": 18,
   "id": "51453e09",
   "metadata": {},
   "outputs": [
    {
     "data": {
      "text/html": [
       "<div>\n",
       "<style scoped>\n",
       "    .dataframe tbody tr th:only-of-type {\n",
       "        vertical-align: middle;\n",
       "    }\n",
       "\n",
       "    .dataframe tbody tr th {\n",
       "        vertical-align: top;\n",
       "    }\n",
       "\n",
       "    .dataframe thead th {\n",
       "        text-align: right;\n",
       "    }\n",
       "</style>\n",
       "<table border=\"1\" class=\"dataframe\">\n",
       "  <thead>\n",
       "    <tr style=\"text-align: right;\">\n",
       "      <th></th>\n",
       "      <th>Nouns</th>\n",
       "      <th>count</th>\n",
       "    </tr>\n",
       "  </thead>\n",
       "  <tbody>\n",
       "    <tr>\n",
       "      <th>0</th>\n",
       "      <td>nation</td>\n",
       "      <td>12</td>\n",
       "    </tr>\n",
       "    <tr>\n",
       "      <th>1</th>\n",
       "      <td>America</td>\n",
       "      <td>10</td>\n",
       "    </tr>\n",
       "    <tr>\n",
       "      <th>2</th>\n",
       "      <td>world</td>\n",
       "      <td>7</td>\n",
       "    </tr>\n",
       "    <tr>\n",
       "      <th>3</th>\n",
       "      <td>people</td>\n",
       "      <td>6</td>\n",
       "    </tr>\n",
       "    <tr>\n",
       "      <th>4</th>\n",
       "      <td>today</td>\n",
       "      <td>5</td>\n",
       "    </tr>\n",
       "    <tr>\n",
       "      <th>5</th>\n",
       "      <td>generation</td>\n",
       "      <td>5</td>\n",
       "    </tr>\n",
       "    <tr>\n",
       "      <th>6</th>\n",
       "      <td>day</td>\n",
       "      <td>5</td>\n",
       "    </tr>\n",
       "    <tr>\n",
       "      <th>7</th>\n",
       "      <td>time</td>\n",
       "      <td>5</td>\n",
       "    </tr>\n",
       "    <tr>\n",
       "      <th>8</th>\n",
       "      <td>spirit</td>\n",
       "      <td>5</td>\n",
       "    </tr>\n",
       "    <tr>\n",
       "      <th>9</th>\n",
       "      <td>God</td>\n",
       "      <td>5</td>\n",
       "    </tr>\n",
       "  </tbody>\n",
       "</table>\n",
       "</div>"
      ],
      "text/plain": [
       "        Nouns  count\n",
       "0      nation     12\n",
       "1     America     10\n",
       "2       world      7\n",
       "3      people      6\n",
       "4       today      5\n",
       "5  generation      5\n",
       "6         day      5\n",
       "7        time      5\n",
       "8      spirit      5\n",
       "9         God      5"
      ]
     },
     "execution_count": 18,
     "metadata": {},
     "output_type": "execute_result"
    }
   ],
   "source": [
    "nouns = pd.DataFrame({'Nouns': word, 'count':con})\n",
    "nouns.head(10)"
   ]
  },
  {
   "cell_type": "code",
   "execution_count": 19,
   "id": "7bbaea47",
   "metadata": {},
   "outputs": [],
   "source": [
    "sns.set(rc={'figure.figsize':(11.7,8.27)})"
   ]
  },
  {
   "cell_type": "code",
   "execution_count": 20,
   "id": "a896fb1f",
   "metadata": {},
   "outputs": [
    {
     "name": "stderr",
     "output_type": "stream",
     "text": [
      "D:\\Anaconda\\lib\\site-packages\\seaborn\\_decorators.py:36: FutureWarning: Pass the following variables as keyword args: x, y. From version 0.12, the only valid positional argument will be `data`, and passing other arguments without an explicit keyword will result in an error or misinterpretation.\n",
      "  warnings.warn(\n"
     ]
    },
    {
     "data": {
      "text/plain": [
       "<AxesSubplot:xlabel='Nouns', ylabel='count'>"
      ]
     },
     "execution_count": 20,
     "metadata": {},
     "output_type": "execute_result"
    },
    {
     "data": {
      "image/png": "[encoded data removed]",
      "text/plain": [
       "<Figure size 842.4x595.44 with 1 Axes>"
      ]
     },
     "metadata": {},
     "output_type": "display_data"
    }
   ],
   "source": [
    "sns.barplot(nouns['Nouns'][:10], nouns['count'][:10])"
   ]
  },
  {
   "cell_type": "markdown",
   "id": "a6bf24cd",
   "metadata": {},
   "source": [
    "## Chinese segmentation using jieba"
   ]
  },
  {
   "cell_type": "code",
   "execution_count": 21,
   "id": "9b9cbdb3",
   "metadata": {},
   "outputs": [
    {
     "name": "stdout",
     "output_type": "stream",
     "text": [
      "Requirement already satisfied: jieba in d:\\anaconda\\lib\\site-packages (0.42.1)\n",
      "Note: you may need to restart the kernel to use updated packages.\n"
     ]
    }
   ],
   "source": [
    "pip install jieba"
   ]
  },
  {
   "cell_type": "code",
   "execution_count": 22,
   "id": "4fd577d8",
   "metadata": {},
   "outputs": [
    {
     "name": "stderr",
     "output_type": "stream",
     "text": [
      "Building prefix dict from the default dictionary ...\n",
      "Loading model from cache C:\\Users\\Admin\\AppData\\Local\\Temp\\jieba.cache\n",
      "Loading model cost 0.620 seconds.\n",
      "Prefix dict has been built successfully.\n"
     ]
    },
    {
     "name": "stdout",
     "output_type": "stream",
     "text": [
      "我们 尝试 在 阅读 阅读课 中 引入 篇章 思想 ， 既能 使 词汇 词汇学 学习 生机 生机勃勃 勃勃 ， 更 重要 的 是 还 能 实现 对 篇章 主题 信息 的 掌握 和 培养 构造 篇章 的 能力 ， 达到 语言 语言学 学习 的 最终 目的\n"
     ]
    }
   ],
   "source": [
    "import jieba\n",
    "seg = jieba.cut(\"我们尝试在阅读课中引入篇章思想，既能使词汇学习生机勃勃，更重要的是还能实现对篇章主题信息的掌握和培养构造篇章的能力，达到语言学习的最终目的\", cut_all = True)\n",
    "print(\" \".join(seg))"
   ]
  },
  {
   "cell_type": "markdown",
   "id": "1222f25f",
   "metadata": {},
   "source": [
    "## Basic Text processing Pipeline"
   ]
  },
  {
   "cell_type": "code",
   "execution_count": 23,
   "id": "aaf2e661",
   "metadata": {},
   "outputs": [
    {
     "name": "stdout",
     "output_type": "stream",
     "text": [
      "['Become', 'an', 'expert', 'in', 'NLP']\n"
     ]
    }
   ],
   "source": [
    "import nltk\n",
    "sent = \"Become an expert in NLP\"\n",
    "words = nltk.word_tokenize(sent)\n",
    "print(words)"
   ]
  },
  {
   "cell_type": "markdown",
   "id": "7afa431b",
   "metadata": {},
   "source": [
    "## Sentence tokenizer"
   ]
  },
  {
   "cell_type": "code",
   "execution_count": 24,
   "id": "6c2bb045",
   "metadata": {},
   "outputs": [
    {
     "name": "stdout",
     "output_type": "stream",
     "text": [
      "['Native', 'speakers', 'of', 'American', 'English', '(', 'Am', 'I', 'a', 'Native', 'Speaker', '?', ')']\n",
      "[('Native', 'JJ'), ('speakers', 'NNS'), ('of', 'IN'), ('American', 'JJ'), ('English', 'NNP'), ('(', '('), ('Am', 'VBP'), ('I', 'PRP'), ('a', 'DT'), ('Native', 'JJ'), ('Speaker', 'NNP'), ('?', '.'), (')', ')')]\n",
      "['who', 'have', 'produced', 'documents', 'of', 'any', 'kind', '(', 'including', 'college', 'student', 'essays', ',', 'blogs', ',', 'poetry', ',', 'fiction', ',', 'email', ',', 'etc', '.', ')']\n",
      "[('who', 'WP'), ('have', 'VBP'), ('produced', 'VBN'), ('documents', 'NNS'), ('of', 'IN'), ('any', 'DT'), ('kind', 'NN'), ('(', '('), ('including', 'VBG'), ('college', 'NN'), ('student', 'NN'), ('essays', 'NNS'), (',', ','), ('blogs', 'NNS'), (',', ','), ('poetry', 'NN'), (',', ','), ('fiction', 'NN'), (',', ','), ('email', 'NN'), (',', ','), ('etc', 'FW'), ('.', '.'), (')', ')')]\n",
      "['are', 'invited', 'to', 'become', 'a', 'part', 'of', 'linguistic', 'history', 'by', 'contributing', 'these', 'materials', 'to', 'the', 'OANC/MASC', '.']\n",
      "[('are', 'VBP'), ('invited', 'VBN'), ('to', 'TO'), ('become', 'VB'), ('a', 'DT'), ('part', 'NN'), ('of', 'IN'), ('linguistic', 'JJ'), ('history', 'NN'), ('by', 'IN'), ('contributing', 'VBG'), ('these', 'DT'), ('materials', 'NNS'), ('to', 'TO'), ('the', 'DT'), ('OANC/MASC', 'NNP'), ('.', '.')]\n",
      "['Authors', 'can', 'consult', 'the', 'frequently', 'asked', 'questions', 'page', 'to', 'learn', 'more', 'about', 'how', 'the', 'data', 'will', 'be', 'used', ',', 'and', 'why', 'you', 'should', 'consider', 'contributing', 'your', 'work', 'to', 'the', 'OANC', '.']\n",
      "[('Authors', 'NNS'), ('can', 'MD'), ('consult', 'VB'), ('the', 'DT'), ('frequently', 'RB'), ('asked', 'VBN'), ('questions', 'NNS'), ('page', 'NN'), ('to', 'TO'), ('learn', 'VB'), ('more', 'JJR'), ('about', 'IN'), ('how', 'WRB'), ('the', 'DT'), ('data', 'NN'), ('will', 'MD'), ('be', 'VB'), ('used', 'VBN'), (',', ','), ('and', 'CC'), ('why', 'WRB'), ('you', 'PRP'), ('should', 'MD'), ('consider', 'VB'), ('contributing', 'VBG'), ('your', 'PRP$'), ('work', 'NN'), ('to', 'TO'), ('the', 'DT'), ('OANC', 'NNP'), ('.', '.')]\n"
     ]
    }
   ],
   "source": [
    "import nltk\n",
    "texts = [\"Native speakers of American English (Am I a Native Speaker?) who have produced documents of any kind (including college student essays, blogs, poetry, fiction, email, etc.) are invited to become a part of linguistic history by contributing these materials to the OANC/MASC. Authors can consult the frequently asked questions page to learn more about how the data will be used, and why you should consider contributing your work to the OANC.\"]\n",
    "for text in texts:\n",
    "    sentences = nltk.sent_tokenize(text)\n",
    "    for sentence in sentences:\n",
    "        words = nltk.word_tokenize(sentence)\n",
    "        print(words)\n",
    "        tagged = nltk.pos_tag(words)\n",
    "        print(tagged)        "
   ]
  }
 ],
 "metadata": {
  "kernelspec": {
   "display_name": "Python 3 (ipykernel)",
   "language": "python",
   "name": "python3"
  },
  "language_info": {
   "codemirror_mode": {
    "name": "ipython",
    "version": 3
   },
   "file_extension": ".py",
   "mimetype": "text/x-python",
   "name": "python",
   "nbconvert_exporter": "python",
   "pygments_lexer": "ipython3",
   "version": "3.9.7"
  }
 },
 "nbformat": 4,
 "nbformat_minor": 5
}
